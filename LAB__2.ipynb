{
 "cells": [
  {
   "cell_type": "code",
   "execution_count": 1,
   "metadata": {
    "ExecuteTime": {
     "end_time": "2023-07-23T16:32:36.149430Z",
     "start_time": "2023-07-23T16:32:36.121450Z"
    }
   },
   "outputs": [
    {
     "data": {
      "text/plain": [
       "[3, 4, 5, 6, 7]"
      ]
     },
     "execution_count": 1,
     "metadata": {},
     "output_type": "execute_result"
    }
   ],
   "source": [
    "def arr(length, start):\n",
    "    array = [start + i for i in range(length)]\n",
    "    return array\n",
    "\n",
    "arr(5, 3)"
   ]
  },
  {
   "cell_type": "code",
   "execution_count": 2,
   "metadata": {
    "ExecuteTime": {
     "end_time": "2023-07-23T16:32:36.319629Z",
     "start_time": "2023-07-23T16:32:36.153428Z"
    }
   },
   "outputs": [
    {
     "name": "stdout",
     "output_type": "stream",
     "text": [
      "FizzBuzz\n",
      "Buzz\n",
      "Fizz\n"
     ]
    }
   ],
   "source": [
    "def fizzbuzz(num):\n",
    "    if num % 3 == 0 and num % 5 == 0:\n",
    "        return \"FizzBuzz\"\n",
    "    elif num % 3 == 0:\n",
    "        return \"Fizz\"\n",
    "    elif num % 5 == 0:\n",
    "        return \"Buzz\"\n",
    "    else:\n",
    "        return num\n",
    "print(fizzbuzz(15))\n",
    "print(fizzbuzz(5))\n",
    "print(fizzbuzz(12))"
   ]
  },
  {
   "cell_type": "code",
   "execution_count": 3,
   "metadata": {
    "ExecuteTime": {
     "end_time": "2023-07-23T16:35:44.229036Z",
     "start_time": "2023-07-23T16:32:36.326625Z"
    }
   },
   "outputs": [
    {
     "name": "stdout",
     "output_type": "stream",
     "text": [
      "Enter a string: zbcdef\n"
     ]
    },
    {
     "data": {
      "text/plain": [
       "'fedcbz'"
      ]
     },
     "execution_count": 3,
     "metadata": {},
     "output_type": "execute_result"
    }
   ],
   "source": [
    "def reverse_string(input_string):\n",
    "    return input_string[::-1]\n",
    "  \n",
    "input_string = input(\"Enter a string: \")\n",
    "    \n",
    "reverse_string(input_string)    "
   ]
  },
  {
   "cell_type": "code",
   "execution_count": 9,
   "metadata": {
    "ExecuteTime": {
     "end_time": "2023-07-23T16:38:11.121586Z",
     "start_time": "2023-07-23T16:37:54.007075Z"
    }
   },
   "outputs": [
    {
     "name": "stdout",
     "output_type": "stream",
     "text": [
      "Enter your name : \n",
      "Input cannot be empty. Please try again.\n",
      "Enter your name : xxfat,ahh\n",
      "Please enter your email address: \n",
      "Invalid email address. Please enter a valid email.\n",
      "Please enter your email address: xccv\n",
      "Invalid email address. Please enter a valid email.\n",
      "Please enter your email address: xxfatmahh@2000\n",
      "Thank you for providing valid input and email!\n",
      "None\n"
     ]
    }
   ],
   "source": [
    "def valid_name_mail():\n",
    "    while True:\n",
    "        user_input = input(\"Enter your name : \")\n",
    "        if user_input.strip()=='':  \n",
    "            print(\"Input cannot be empty. Please try again.\")\n",
    "        elif user_input.isdigit():\n",
    "            print(\"Input cannot be an integer. Please try again.\")\n",
    "        else :\n",
    "            break\n",
    "\n",
    "    while True:\n",
    "\n",
    "        user_email = input(\"Please enter your email address: \")\n",
    "        if user_email.strip()=='' :\n",
    "            print(\"Invalid email address. Please enter a valid email.\")  \n",
    "\n",
    "        elif'@' not in user_email:\n",
    "            print(\"Invalid email address. Please enter a valid email.\")  \n",
    "        else:\n",
    "            break\n",
    "\n",
    "    print(\"Thank you for providing valid input and email!\")\n",
    "\n",
    "print(valid_name_mail())"
   ]
  },
  {
   "cell_type": "code",
   "execution_count": 11,
   "metadata": {
    "ExecuteTime": {
     "end_time": "2023-07-23T16:39:35.977382Z",
     "start_time": "2023-07-23T16:39:26.260606Z"
    }
   },
   "outputs": [
    {
     "name": "stdout",
     "output_type": "stream",
     "text": [
      "enter your string :abdulrahman\n",
      "Longest substring in alphabetical order is: \n",
      "None\n"
     ]
    }
   ],
   "source": [
    "def funct():\n",
    "    inputString = input(\"enter your string :\")\n",
    "\n",
    "    prevChar = \"\"\n",
    "    currentString = \"\"\n",
    "    longestString = \"\"\n",
    "\n",
    "    for char in inputString:\n",
    "        if prevChar <= char:\n",
    "            longestString += prevChar\n",
    "            \n",
    "        else:\n",
    "            currentString = char\n",
    "    print('Longest substring in alphabetical order is:',longestString)\n",
    "\n",
    "print(funct())"
   ]
  },
  {
   "cell_type": "code",
   "execution_count": null,
   "metadata": {},
   "outputs": [],
   "source": []
  }
 ],
 "metadata": {
  "kernelspec": {
   "display_name": "Python 3",
   "language": "python",
   "name": "python3"
  },
  "language_info": {
   "codemirror_mode": {
    "name": "ipython",
    "version": 3
   },
   "file_extension": ".py",
   "mimetype": "text/x-python",
   "name": "python",
   "nbconvert_exporter": "python",
   "pygments_lexer": "ipython3",
   "version": "3.7.6"
  },
  "toc": {
   "base_numbering": 1,
   "nav_menu": {},
   "number_sections": true,
   "sideBar": true,
   "skip_h1_title": false,
   "title_cell": "Table of Contents",
   "title_sidebar": "Contents",
   "toc_cell": false,
   "toc_position": {},
   "toc_section_display": true,
   "toc_window_display": false
  },
  "varInspector": {
   "cols": {
    "lenName": 16,
    "lenType": 16,
    "lenVar": 40
   },
   "kernels_config": {
    "python": {
     "delete_cmd_postfix": "",
     "delete_cmd_prefix": "del ",
     "library": "var_list.py",
     "varRefreshCmd": "print(var_dic_list())"
    },
    "r": {
     "delete_cmd_postfix": ") ",
     "delete_cmd_prefix": "rm(",
     "library": "var_list.r",
     "varRefreshCmd": "cat(var_dic_list()) "
    }
   },
   "types_to_exclude": [
    "module",
    "function",
    "builtin_function_or_method",
    "instance",
    "_Feature"
   ],
   "window_display": false
  }
 },
 "nbformat": 4,
 "nbformat_minor": 4
}
