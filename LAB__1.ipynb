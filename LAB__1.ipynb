{
 "cells": [
  {
   "cell_type": "code",
   "execution_count": 47,
   "metadata": {
    "ExecuteTime": {
     "end_time": "2023-07-23T08:05:47.281911Z",
     "start_time": "2023-07-23T08:05:47.275919Z"
    }
   },
   "outputs": [
    {
     "name": "stdout",
     "output_type": "stream",
     "text": [
      "hello word\n"
     ]
    }
   ],
   "source": [
    "print(\"hello word\")"
   ]
  },
  {
   "cell_type": "code",
   "execution_count": 48,
   "metadata": {
    "ExecuteTime": {
     "end_time": "2023-07-23T08:06:43.787994Z",
     "start_time": "2023-07-23T08:05:48.726057Z"
    },
    "scrolled": true
   },
   "outputs": [
    {
     "name": "stdout",
     "output_type": "stream",
     "text": [
      "Enter string:Harry Potter and the philosopher's stone\n",
      "Count of the vowels is:\n",
      "11\n"
     ]
    }
   ],
   "source": [
    "s=input(\"Enter string:\")\n",
    "count = 0\n",
    "vowels = \"aeiouAEIOU\"\n",
    "for letter in s:\n",
    "    if letter in vowels:\n",
    "        count += 1\n",
    "print(\"Count of the vowels is:\")\n",
    "print(count)"
   ]
  },
  {
   "cell_type": "code",
   "execution_count": 49,
   "metadata": {
    "ExecuteTime": {
     "end_time": "2023-07-23T08:07:06.122028Z",
     "start_time": "2023-07-23T08:06:59.941614Z"
    }
   },
   "outputs": [
    {
     "name": "stdout",
     "output_type": "stream",
     "text": [
      "Enter element 0: 3\n",
      "Enter element 1: 6\n",
      "Enter element 2: 7\n",
      "Enter element 3: 3\n",
      "Enter element 4: 1\n",
      "sorted in descending order: ['7', '6', '3', '3', '1']\n"
     ]
    }
   ],
   "source": [
    "    array = []\n",
    "    for i in range(5):\n",
    "        element = input(f\"Enter element {i}: \")\n",
    "        array.append(element)\n",
    "\n",
    "    array.sort(reverse=True) \n",
    "    print(\"sorted in descending order:\", array)"
   ]
  },
  {
   "cell_type": "code",
   "execution_count": 50,
   "metadata": {
    "ExecuteTime": {
     "end_time": "2023-07-23T08:07:21.417921Z",
     "start_time": "2023-07-23T08:07:17.066028Z"
    }
   },
   "outputs": [
    {
     "name": "stdout",
     "output_type": "stream",
     "text": [
      "Enter element 0: 7\n",
      "Enter element 1: 5\n",
      "Enter element 2: 1\n",
      "Enter element 3: 4\n",
      "Enter element 4: 8\n",
      "sorted in descending order: ['1', '4', '5', '7', '8']\n"
     ]
    }
   ],
   "source": [
    "    array = []\n",
    "    for i in range(5):\n",
    "        element = input(f\"Enter element {i}: \")\n",
    "        array.append(element)\n",
    "\n",
    "    array.sort(reverse=False) \n",
    "    print(\"sorted in descending order:\", array)"
   ]
  },
  {
   "cell_type": "code",
   "execution_count": 51,
   "metadata": {
    "ExecuteTime": {
     "end_time": "2023-07-23T08:08:09.286535Z",
     "start_time": "2023-07-23T08:07:29.332553Z"
    }
   },
   "outputs": [
    {
     "name": "stdout",
     "output_type": "stream",
     "text": [
      "Enter a string: iti is an institution of ministry of communications\n",
      "Number of occurrence of iti: 1\n"
     ]
    }
   ],
   "source": [
    "input_string = input(\"Enter a string: \")\n",
    "\n",
    "print('Number of occurrence of iti:', input_string.count('iti'))"
   ]
  },
  {
   "cell_type": "code",
   "execution_count": 52,
   "metadata": {
    "ExecuteTime": {
     "end_time": "2023-07-23T08:08:42.811919Z",
     "start_time": "2023-07-23T08:08:17.429297Z"
    }
   },
   "outputs": [
    {
     "name": "stdout",
     "output_type": "stream",
     "text": [
      "Enter a word: Harry Potter and the chambre of secrets\n",
      "The brief version is Hrry Pttr nd th chmbr f scrts'.\n"
     ]
    }
   ],
   "source": [
    "input_word = input(\"Enter a word: \")\n",
    "vowels = \"aeiouAEIOU\"\n",
    "brief_version = \"\"\n",
    "\n",
    "for char in input_word:\n",
    "    if char not in vowels:\n",
    "        brief_version += char\n",
    "\n",
    "print(f\"The brief version is {brief_version}'.\")"
   ]
  },
  {
   "cell_type": "code",
   "execution_count": 53,
   "metadata": {
    "ExecuteTime": {
     "end_time": "2023-07-23T08:09:32.776729Z",
     "start_time": "2023-07-23T08:08:50.894719Z"
    }
   },
   "outputs": [
    {
     "name": "stdout",
     "output_type": "stream",
     "text": [
      "Enter a string: Harry Potter and the prisoner of azkaban\n",
      "23\n"
     ]
    }
   ],
   "source": [
    "input_string = input(\"Enter a string: \")\n",
    "\n",
    "# find the index of is\n",
    "result = input_string.index('i')\n",
    "print(result)"
   ]
  },
  {
   "cell_type": "code",
   "execution_count": 54,
   "metadata": {
    "ExecuteTime": {
     "end_time": "2023-07-23T08:09:37.776178Z",
     "start_time": "2023-07-23T08:09:37.755191Z"
    }
   },
   "outputs": [
    {
     "name": "stdout",
     "output_type": "stream",
     "text": [
      "   *\n",
      "  **\n",
      " ***\n",
      "****\n"
     ]
    }
   ],
   "source": [
    "height = 4\n",
    "\n",
    "for i in range(1, height + 1):\n",
    "    spaces = \" \" * (height - i)\n",
    "    blocks = \"*\" *i * 1\n",
    "    print(spaces + blocks)"
   ]
  },
  {
   "cell_type": "code",
   "execution_count": 59,
   "metadata": {
    "ExecuteTime": {
     "end_time": "2023-07-23T15:14:37.979867Z",
     "start_time": "2023-07-23T15:14:36.059336Z"
    },
    "scrolled": true
   },
   "outputs": [
    {
     "name": "stdout",
     "output_type": "stream",
     "text": [
      "enter your number 4\n",
      "Multiplication Table:\n",
      "[[1], [2, 4], [3, 6, 9], [4, 8, 12, 16]]\n"
     ]
    }
   ],
   "source": [
    "    number=input(\"enter your number \")\n",
    "    if number.isdigit():\n",
    "        number = int(number)\n",
    "    listt = []\n",
    "    for i in range(1, number+1):\n",
    "            row = [i * j for j in range(1, number + 1) if j<=i]\n",
    "            listt.append(row)\n",
    "\n",
    "    print(\"Multiplication Table:\")\n",
    "    print(listt)"
   ]
  },
  {
   "cell_type": "code",
   "execution_count": null,
   "metadata": {},
   "outputs": [],
   "source": []
  }
 ],
 "metadata": {
  "kernelspec": {
   "display_name": "Python 3",
   "language": "python",
   "name": "python3"
  },
  "language_info": {
   "codemirror_mode": {
    "name": "ipython",
    "version": 3
   },
   "file_extension": ".py",
   "mimetype": "text/x-python",
   "name": "python",
   "nbconvert_exporter": "python",
   "pygments_lexer": "ipython3",
   "version": "3.7.6"
  },
  "toc": {
   "base_numbering": 1,
   "nav_menu": {},
   "number_sections": true,
   "sideBar": true,
   "skip_h1_title": false,
   "title_cell": "Table of Contents",
   "title_sidebar": "Contents",
   "toc_cell": false,
   "toc_position": {},
   "toc_section_display": true,
   "toc_window_display": false
  },
  "varInspector": {
   "cols": {
    "lenName": 16,
    "lenType": 16,
    "lenVar": 40
   },
   "kernels_config": {
    "python": {
     "delete_cmd_postfix": "",
     "delete_cmd_prefix": "del ",
     "library": "var_list.py",
     "varRefreshCmd": "print(var_dic_list())"
    },
    "r": {
     "delete_cmd_postfix": ") ",
     "delete_cmd_prefix": "rm(",
     "library": "var_list.r",
     "varRefreshCmd": "cat(var_dic_list()) "
    }
   },
   "types_to_exclude": [
    "module",
    "function",
    "builtin_function_or_method",
    "instance",
    "_Feature"
   ],
   "window_display": false
  }
 },
 "nbformat": 4,
 "nbformat_minor": 4
}
